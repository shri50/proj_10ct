{
 "cells": [
  {
   "cell_type": "code",
   "execution_count": null,
   "id": "53f68178",
   "metadata": {},
   "outputs": [],
   "source": [
    "# Steps for Data Science Project \n",
    "\n",
    "1- 8 >> setup the env >> conda env \n",
    "1. Problem Statement \n",
    "2. Data Gathering \n",
    "3. EDA\n",
    "4. Feature Engg\n",
    "5. Feature Selection \n",
    "6. Model Training \n",
    "7. Model Evaluation \n",
    "8. API and Testing [flask] \n",
    "9. Deployment [Aws , git]"
   ]
  },
  {
   "cell_type": "code",
   "execution_count": null,
   "id": "64e1381e",
   "metadata": {},
   "outputs": [],
   "source": [
    "import numpy as np\n",
    "import pandas as pd"
   ]
  },
  {
   "cell_type": "code",
   "execution_count": 2,
   "id": "d2ab77b8",
   "metadata": {},
   "outputs": [
    {
     "name": "stdout",
     "output_type": "stream",
     "text": [
      "Python 3.10.9\n"
     ]
    }
   ],
   "source": [
    "!python --version"
   ]
  },
  {
   "cell_type": "code",
   "execution_count": null,
   "id": "d2affd1f",
   "metadata": {},
   "outputs": [],
   "source": []
  }
 ],
 "metadata": {
  "kernelspec": {
   "display_name": "Python 3 (ipykernel)",
   "language": "python",
   "name": "python3"
  },
  "language_info": {
   "codemirror_mode": {
    "name": "ipython",
    "version": 3
   },
   "file_extension": ".py",
   "mimetype": "text/x-python",
   "name": "python",
   "nbconvert_exporter": "python",
   "pygments_lexer": "ipython3",
   "version": "3.10.9"
  }
 },
 "nbformat": 4,
 "nbformat_minor": 5
}
